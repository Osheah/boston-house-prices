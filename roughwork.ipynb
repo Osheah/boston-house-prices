{
 "cells": [
  {
   "cell_type": "markdown",
   "metadata": {},
   "source": [
    "## Background\n",
    "\n",
    "How are housing prices determined? Why is it the average house price in Dublin €432k compared €115k in Longford (An Post and Ordnance Survey Ireland, 2019). There are socio environmental factors that make one property more desirable (hence more expensive) than a comparable property in a different area. Influencing factors could related to the property such as the age of the house, its BER rating or the number of rooms; Or the factors may be related to the local area such as the proximity to work/job opportunity or proximity to good school. The hedonic pricing model aims to capture and quantify these externalities that influence house price. \n",
    "\n",
    "The Boston housing dataset was created to investigate factors influencing house price, in particular levels of pollution. It made its first appearance in a paper by Harrison and Rubinfeld (1978) titled *'Hedonic prices and the demand for clean air'* (Harrison & Rubinfeld, 1978). It consisted of 506 observations across 14 measures from regions around Boston, Massachusetts USA. Harrison & Rubinfeld, (1978) developed a hedonic house price index estimator to gauge the marginal maximum price people would pay to have clean air (Belsley, Kuh, & Welsch, 2004). They focused their investigation on if clean air influenced house prices. Harrison and Rubinfeld (1978), collated 13 suspected influencing factors on the 14th measure, price. The factors they considered relevant to house price could be broadly classified as the dependent factor i.e price, structural factors, neighbourhood factors, accessibility factors and air pollution factors. \n",
    "\n",
    "\n",
    "\n",
    "The dependent factor MEDV measures the median value of owner occupied houses in the Boston area. It was taken from 1970 census traits. "
   ]
  },
  {
   "cell_type": "markdown",
   "metadata": {},
   "source": [
    "The first stage was identifying what exactly the variables represented. This was complicated by the fact that Harrison and Rubinfeld named their data MV, RM, AGE, B, LSTAT, CRIM, ZN, INDUS, TAX, PTRATIO, DIS, RAD, and NOX while Belsley Kuh & Welsch 2004 had similar nomenclature for all their variables bar NOXSQ and LMV but many of the variables were transformed. An examination of Belsley, Kuh and Welsch  data compared to the sklearn data showed that the logarithms taken of the DIS RAD. NOX in Harrison and Rubinfeld was (NOX squared)/1000 in Belsley, Kuh & Welsch; RM was RM squared; B was B/1000. LSTAT was supposed to be the natural log of LSTAT but some other transformation must have also been used as the numbers did not reflect ln or log10 of LSTAT value.    \n"
   ]
  },
  {
   "cell_type": "markdown",
   "metadata": {},
   "source": [
    "\n",
    "## References\n",
    "1.An Post and Ordnance Survey Ireland. (2019). Geoview Residential Buildings Report [Ebook] (11th ed.). Retrieved from https://www.geodirectory.ie/knowledge-centre/reports-blogs/geoview-residential-issue-11.pdf\n",
    "\n",
    "\n",
    "https://statistics.laerd.com/spss-tutorials/independent-t-test-using-spss-statistics.php\n",
    "\n",
    "https://towardsdatascience.com/ways-to-detect-and-remove-the-outliers-404d16608dba\n",
    "\n",
    "taken from  https://stackoverflow.com/questions/34087126/plot-lower-triangle-in-a-seaborn-pairgrid\n",
    "\n",
    "https://rstudio-pubs-static.s3.amazonaws.com/364346_811c9012a14847428c9b1fc1e956431a.html\n",
    "\n",
    "\n",
    "Gilley, O.W., and R. Kelley Pace, On the Harrison and Rubinfeld Data, Journal of Environmental Economics and Management, 31 (1996),403-405. Provided corrections and examined censoring.\n",
    "\n",
    "Srivastav, V. (2019). Boston Housing - Price Prediction. Retrieved 13 November 2019, from https://rstudio-pubs-static.s3.amazonaws.com/364346_811c9012a14847428c9b1fc1e956431a.html\n",
    "\n",
    "\n",
    "\n",
    "https://nowosad.github.io/spData/reference/boston.html\n",
    "\n",
    "#https://towardsdatascience.com/linear-regression-on-boston-housing-dataset-f409b7e4a155\n",
    "\n",
    "Belsley, D. A., Kuh, E., & Welsch, R. E. (2004). Regression diagnostics: identifying influential data and sources of collinearity. Hoboken, NJ: Wiley. \n",
    "\n",
    "Harrison, D., & Rubinfeld, D. L. (1978). Hedonic housing prices and the demand for clean air. Journal of Environmental Economics and Management, 5(1), 81–102. doi: 10.1016/0095-0696(78)90006-2\n",
    "\n",
    "Härdle, W., & Simar, L. (2007). Applied Multivariate Statistical Analysis (2nd ed.). Berlin: Springer.\n",
    "\n",
    "StatLib - Datasets Archive. (n.d.). Boston Corrected. Retrieved November 7, 2019, from http://lib.stat.cmu.edu/datasets/boston_corrected.txt.\n",
    "\n",
    "US Census Bureau. (2018, February 9). 1970 Census of Population and Housing: Census Tracts - Part 23. Retrieved November 12, 2019, from https://www.census.gov/library/publications/1972/dec/phc-1.html. "
   ]
  }
 ],
 "metadata": {
  "kernelspec": {
   "display_name": "Python 3",
   "language": "python",
   "name": "python3"
  },
  "language_info": {
   "codemirror_mode": {
    "name": "ipython",
    "version": 3
   },
   "file_extension": ".py",
   "mimetype": "text/x-python",
   "name": "python",
   "nbconvert_exporter": "python",
   "pygments_lexer": "ipython3",
   "version": "3.7.3"
  }
 },
 "nbformat": 4,
 "nbformat_minor": 2
}
